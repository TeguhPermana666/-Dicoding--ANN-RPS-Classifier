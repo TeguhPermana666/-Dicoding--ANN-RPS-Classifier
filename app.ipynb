{
 "cells": [
  {
   "cell_type": "markdown",
   "metadata": {},
   "source": [
    "# Setup"
   ]
  },
  {
   "cell_type": "code",
   "execution_count": 77,
   "metadata": {},
   "outputs": [],
   "source": [
    "# python >= 3.5 version\n",
    "import sys\n",
    "assert sys.version_info >= (3,5)\n",
    "\n",
    "# scikit-learn >= 0.20 is required\n",
    "import sklearn \n",
    "assert sklearn.__version__ >= '0.20'\n",
    "\n",
    "# tensorflow >=2.0 is required\n",
    "import tensorflow as tf\n",
    "assert tf.__version__ >= '2.0'\n",
    "\n",
    "# import for manipulate data structure\n",
    "import pandas as pd\n",
    "import numpy as np\n",
    "import os\n",
    "\n",
    "# to make this notebook are stable output accros runs\n",
    "np.random.seed(42)\n",
    "\n",
    "#to plot prety figure\n",
    "import matplotlib as mpl\n",
    "import matplotlib.pyplot as plt\n",
    "mpl.rc('axes', labelsize=14)\n",
    "mpl.rc('xtick', labelsize=12)\n",
    "mpl.rc('ytick', labelsize=12)\n",
    "\n",
    "# save the figure automatic\n",
    "root ='.'\n",
    "chapter_id = 'RPS'\n",
    "images_path = os.path.join(root,'images',chapter_id)\n",
    "os.makedirs(images_path,exist_ok=True)\n",
    "\n",
    "def save_fig(fig_id,tigh_layout=True,fig_extension='png',resolution=300):\n",
    "    path = os.path.join(images_path,fig_id+'.'+fig_extension)\n",
    "    print('save figure',fig_id)\n",
    "    if tigh_layout:\n",
    "        plt.tight_layout()\n",
    "    plt.savefig(path,format=fig_extension,resolution=resolution)\n"
   ]
  },
  {
   "cell_type": "markdown",
   "metadata": {},
   "source": [
    "# Data collection"
   ]
  },
  {
   "cell_type": "code",
   "execution_count": 78,
   "metadata": {},
   "outputs": [],
   "source": [
    "import zipfile\n",
    "path_local = 'rockpaperscissors.zip'\n",
    "path_file = zipfile.ZipFile(path_local,'r')\n",
    "path_file.extractall('/')\n",
    "path_file.close()\n"
   ]
  },
  {
   "cell_type": "code",
   "execution_count": 79,
   "metadata": {},
   "outputs": [
    {
     "data": {
      "text/plain": [
       "['paper', 'README_rpc-cv-images.txt', 'rock', 'scissors']"
      ]
     },
     "execution_count": 79,
     "metadata": {},
     "output_type": "execute_result"
    }
   ],
   "source": [
    "dir_file = \"/rockpaperscissors/rps-cv-images\"\n",
    "os.listdir(dir_file)"
   ]
  },
  {
   "cell_type": "code",
   "execution_count": 80,
   "metadata": {},
   "outputs": [],
   "source": [
    "from tensorflow.keras.preprocessing.image import ImageDataGenerator \n",
    "image_generator = ImageDataGenerator(\n",
    "    #input layers untuk rescaling gambar 255 byte\n",
    "    shear_range=0.2,\n",
    "    fill_mode = 'wrap',\n",
    "    horizontal_flip = True,\n",
    "    rotation_range = 20,\n",
    "    validation_split = 0.2\n",
    ")"
   ]
  },
  {
   "cell_type": "code",
   "execution_count": 81,
   "metadata": {},
   "outputs": [
    {
     "name": "stdout",
     "output_type": "stream",
     "text": [
      "Found 1751 images belonging to 3 classes.\n",
      "Found 437 images belonging to 3 classes.\n"
     ]
    }
   ],
   "source": [
    "train = image_generator.flow_from_directory(\n",
    "    dir_file,\n",
    "    target_size=(100,150),\n",
    "    shuffle=True,\n",
    "    class_mode='sparse',\n",
    "    subset='training'\n",
    ")\n",
    "validation = image_generator.flow_from_directory(\n",
    "    dir_file,\n",
    "    target_size=(100,150),\n",
    "    class_mode='sparse',\n",
    "    subset='validation'\n",
    ")"
   ]
  },
  {
   "cell_type": "code",
   "execution_count": 82,
   "metadata": {},
   "outputs": [
    {
     "data": {
      "text/plain": [
       "'sparse'"
      ]
     },
     "execution_count": 82,
     "metadata": {},
     "output_type": "execute_result"
    }
   ],
   "source": [
    "train.class_mode"
   ]
  },
  {
   "cell_type": "code",
   "execution_count": 83,
   "metadata": {},
   "outputs": [
    {
     "name": "stdout",
     "output_type": "stream",
     "text": [
      "Found 2188 files belonging to 3 classes.\n",
      "Using 1751 files for training.\n"
     ]
    }
   ],
   "source": [
    "img_height = 100\n",
    "img_width = 150\n",
    "batch_size = 32\n",
    "train_ds = tf.keras.utils.image_dataset_from_directory(\n",
    "    dir_file,\n",
    "    validation_split=0.2,\n",
    "    subset='training',\n",
    "    seed=42,\n",
    "    image_size=(img_height,img_width),\n",
    "    batch_size=batch_size\n",
    ")"
   ]
  },
  {
   "cell_type": "code",
   "execution_count": 84,
   "metadata": {},
   "outputs": [
    {
     "name": "stdout",
     "output_type": "stream",
     "text": [
      "Found 2188 files belonging to 3 classes.\n",
      "Using 437 files for validation.\n"
     ]
    }
   ],
   "source": [
    "val_ds = tf.keras.utils.image_dataset_from_directory(\n",
    "    dir_file,\n",
    "    validation_split =0.2,\n",
    "    subset='validation',\n",
    "    seed=42,\n",
    "    image_size = (img_height,img_width),\n",
    "    batch_size=batch_size\n",
    ")"
   ]
  },
  {
   "cell_type": "code",
   "execution_count": 85,
   "metadata": {},
   "outputs": [
    {
     "data": {
      "text/plain": [
       "['paper', 'rock', 'scissors']"
      ]
     },
     "execution_count": 85,
     "metadata": {},
     "output_type": "execute_result"
    }
   ],
   "source": [
    "train_ds.class_names"
   ]
  },
  {
   "cell_type": "markdown",
   "metadata": {},
   "source": [
    "# ANN Arsitecture"
   ]
  },
  {
   "cell_type": "code",
   "execution_count": 86,
   "metadata": {},
   "outputs": [],
   "source": [
    "from tensorflow.keras import layers\n",
    "from tensorflow.keras.models import Sequential \n",
    "from tensorflow import keras"
   ]
  },
  {
   "cell_type": "markdown",
   "metadata": {},
   "source": [
    "# Fowrward Pass"
   ]
  },
  {
   "cell_type": "code",
   "execution_count": 87,
   "metadata": {},
   "outputs": [],
   "source": [
    "keras.backend.clear_session()\n",
    "np.random.seed(42)\n",
    "tf.random.set_seed(42)"
   ]
  },
  {
   "cell_type": "code",
   "execution_count": 88,
   "metadata": {},
   "outputs": [],
   "source": [
    "model  = Sequential([\n",
    "    #layers conversi sebuah bentuk menjadi 2d\n",
    "    # setiap layers jumlah progetron exponenial dengan jumlah TLU 3\n",
    "    layers.experimental.preprocessing.Rescaling(1./255, input_shape=(img_height,img_width,3)),\n",
    "     \n",
    "    layers.Conv2D(16,(3,3),padding='same',activation='relu'),\n",
    "    layers.MaxPooling2D(2,2),\n",
    "    \n",
    "    layers.Conv2D(32,(3,3),padding='same',activation='relu'),\n",
    "    layers.MaxPooling2D(2,2),\n",
    "    \n",
    "    layers.Conv2D(64,(3,3),padding='same',activation='relu'),\n",
    "    layers.MaxPooling2D(2,2),\n",
    "    \n",
    "    # preprocesing data to 1D, default 28x28\n",
    "    layers.Flatten(),\n",
    "    # make hidden layers to computation sebuah classifier per predict proba setiap instance terhadap satu label num_class=>3\n",
    "    layers.Dense(512,activation='relu'),\n",
    "    layers.Dense(len(train_ds.class_names),activation='softmax')#multiclass\n",
    "])"
   ]
  },
  {
   "cell_type": "markdown",
   "metadata": {},
   "source": [
    "# Compile mode (Backward pass)"
   ]
  },
  {
   "cell_type": "code",
   "execution_count": 89,
   "metadata": {},
   "outputs": [],
   "source": [
    "K = keras.backend\n",
    "\n",
    "class ExponentialLearningRate(keras.callbacks.Callback):\n",
    "    def __init__(self, factor):\n",
    "        self.factor = factor\n",
    "        self.rates = []\n",
    "        self.losses = []\n",
    "    def on_batch_end(self, batch, logs):\n",
    "        self.rates.append(K.get_value(self.model.optimizer.learning_rate))\n",
    "        self.losses.append(logs[\"loss\"])\n",
    "        K.set_value(self.model.optimizer.learning_rate, self.model.optimizer.learning_rate * self.factor)"
   ]
  },
  {
   "cell_type": "code",
   "execution_count": 90,
   "metadata": {},
   "outputs": [],
   "source": [
    "keras.backend.clear_session()\n",
    "np.random.seed(42)\n",
    "tf.random.set_seed(42)\n",
    "model.compile(optimizer=keras.optimizers.SGD(learning_rate=1e-2),\n",
    "              loss=\"sparse_categorical_crossentropy\",\n",
    "              metrics=['accuracy'])\n",
    "expon_lr = ExponentialLearningRate(factor=1.005)"
   ]
  },
  {
   "cell_type": "code",
   "execution_count": 91,
   "metadata": {},
   "outputs": [
    {
     "name": "stdout",
     "output_type": "stream",
     "text": [
      "55/55 [==============================] - 20s 367ms/step - loss: 1.0835 - accuracy: 0.4272 - val_loss: 1.0542 - val_accuracy: 0.5515\n"
     ]
    }
   ],
   "source": [
    "history = model.fit(train, epochs=1,\n",
    "                    validation_data=validation,\n",
    "                    callbacks=[expon_lr])"
   ]
  },
  {
   "cell_type": "code",
   "execution_count": 92,
   "metadata": {},
   "outputs": [
    {
     "data": {
      "text/plain": [
       "Text(0, 0.5, 'Loss')"
      ]
     },
     "execution_count": 92,
     "metadata": {},
     "output_type": "execute_result"
    },
    {
     "data": {
      "image/png": "[encoded data removed]",
      "text/plain": [
       "<Figure size 864x576 with 1 Axes>"
      ]
     },
     "metadata": {
      "needs_background": "light"
     },
     "output_type": "display_data"
    }
   ],
   "source": [
    "keras.backend.clear_session()\n",
    "np.random.seed(42)\n",
    "tf.random.set_seed(42)\n",
    "plt.figure(figsize=(12,8))\n",
    "plt.plot(expon_lr.rates, expon_lr.losses)\n",
    "plt.gca().set_xscale('log')\n",
    "plt.hlines(min(expon_lr.losses), min(expon_lr.rates), max(expon_lr.rates))\n",
    "plt.axis([min(expon_lr.rates), max(expon_lr.rates), 0, expon_lr.losses[0]])\n",
    "plt.grid()\n",
    "plt.xlabel(\"Learning rate\")\n",
    "plt.ylabel(\"Loss\")"
   ]
  },
  {
   "cell_type": "code",
   "execution_count": 93,
   "metadata": {},
   "outputs": [
    {
     "data": {
      "text/plain": [
       "'.\\\\my_logs\\\\run_2022_08_10-10_12_07'"
      ]
     },
     "execution_count": 93,
     "metadata": {},
     "output_type": "execute_result"
    }
   ],
   "source": [
    "root_logdir = os.path.join(os.curdir, \"my_logs\")\n",
    "def get_run_logdir():\n",
    "    import time\n",
    "    run_id = time.strftime(\"run_%Y_%m_%d-%H_%M_%S\")\n",
    "    return os.path.join(root_logdir, run_id)\n",
    "\n",
    "run_logdir = get_run_logdir()\n",
    "run_logdir"
   ]
  },
  {
   "cell_type": "code",
   "execution_count": 94,
   "metadata": {},
   "outputs": [],
   "source": [
    "early_stopping_cb = keras.callbacks.EarlyStopping(patience=10,restore_best_weights=True)\n",
    "checkpoint_cb = keras.callbacks.ModelCheckpoint(\"rbs_model.h5\", save_best_only=True)\n",
    "tensorboard_cb = keras.callbacks.TensorBoard(run_logdir)"
   ]
  },
  {
   "cell_type": "code",
   "execution_count": 95,
   "metadata": {},
   "outputs": [],
   "source": [
    "model.compile(optimizer=keras.optimizers.SGD(learning_rate=1.3e-2),\n",
    "              loss=\"sparse_categorical_crossentropy\",\n",
    "              metrics=['accuracy'])"
   ]
  },
  {
   "cell_type": "code",
   "execution_count": 96,
   "metadata": {},
   "outputs": [
    {
     "name": "stdout",
     "output_type": "stream",
     "text": [
      "Epoch 1/20\n",
      "55/55 - 14s - loss: 1.0000 - accuracy: 0.5374 - val_loss: 0.9127 - val_accuracy: 0.6705 - 14s/epoch - 261ms/step\n",
      "Epoch 2/20\n",
      "55/55 - 14s - loss: 0.8546 - accuracy: 0.6248 - val_loss: 0.7097 - val_accuracy: 0.7254 - 14s/epoch - 249ms/step\n",
      "Epoch 3/20\n",
      "55/55 - 14s - loss: 0.6833 - accuracy: 0.7190 - val_loss: 0.5333 - val_accuracy: 0.8261 - 14s/epoch - 246ms/step\n",
      "Epoch 4/20\n",
      "55/55 - 14s - loss: 0.5540 - accuracy: 0.7933 - val_loss: 0.4814 - val_accuracy: 0.8398 - 14s/epoch - 248ms/step\n",
      "Epoch 5/20\n",
      "55/55 - 14s - loss: 0.4670 - accuracy: 0.8361 - val_loss: 0.3689 - val_accuracy: 0.8650 - 14s/epoch - 247ms/step\n",
      "Epoch 6/20\n",
      "55/55 - 14s - loss: 0.3688 - accuracy: 0.8681 - val_loss: 0.2667 - val_accuracy: 0.9085 - 14s/epoch - 248ms/step\n",
      "Epoch 7/20\n",
      "55/55 - 14s - loss: 0.2640 - accuracy: 0.9212 - val_loss: 0.2318 - val_accuracy: 0.9153 - 14s/epoch - 246ms/step\n",
      "Epoch 8/20\n",
      "55/55 - 14s - loss: 0.2466 - accuracy: 0.9126 - val_loss: 0.2199 - val_accuracy: 0.9359 - 14s/epoch - 246ms/step\n",
      "Epoch 9/20\n",
      "55/55 - 13s - loss: 0.2139 - accuracy: 0.9303 - val_loss: 0.2122 - val_accuracy: 0.9222 - 13s/epoch - 245ms/step\n",
      "Epoch 10/20\n",
      "55/55 - 14s - loss: 0.1948 - accuracy: 0.9355 - val_loss: 0.2159 - val_accuracy: 0.9176 - 14s/epoch - 248ms/step\n",
      "Epoch 11/20\n",
      "55/55 - 14s - loss: 0.1551 - accuracy: 0.9497 - val_loss: 0.1796 - val_accuracy: 0.9405 - 14s/epoch - 250ms/step\n",
      "Epoch 12/20\n",
      "55/55 - 14s - loss: 0.1537 - accuracy: 0.9509 - val_loss: 0.2938 - val_accuracy: 0.8902 - 14s/epoch - 247ms/step\n",
      "Epoch 13/20\n",
      "55/55 - 14s - loss: 0.1496 - accuracy: 0.9475 - val_loss: 0.1283 - val_accuracy: 0.9634 - 14s/epoch - 252ms/step\n",
      "Epoch 14/20\n",
      "55/55 - 14s - loss: 0.1102 - accuracy: 0.9663 - val_loss: 0.1212 - val_accuracy: 0.9565 - 14s/epoch - 260ms/step\n",
      "Epoch 15/20\n",
      "55/55 - 14s - loss: 0.1348 - accuracy: 0.9572 - val_loss: 0.1463 - val_accuracy: 0.9451 - 14s/epoch - 247ms/step\n",
      "Epoch 16/20\n",
      "55/55 - 14s - loss: 0.0978 - accuracy: 0.9703 - val_loss: 0.0970 - val_accuracy: 0.9657 - 14s/epoch - 248ms/step\n",
      "Epoch 17/20\n",
      "55/55 - 14s - loss: 0.0959 - accuracy: 0.9714 - val_loss: 0.1234 - val_accuracy: 0.9634 - 14s/epoch - 247ms/step\n",
      "Epoch 18/20\n",
      "55/55 - 13s - loss: 0.1276 - accuracy: 0.9606 - val_loss: 0.1337 - val_accuracy: 0.9565 - 13s/epoch - 243ms/step\n",
      "Epoch 19/20\n",
      "55/55 - 13s - loss: 0.0991 - accuracy: 0.9709 - val_loss: 0.1064 - val_accuracy: 0.9703 - 13s/epoch - 243ms/step\n",
      "Epoch 20/20\n",
      "55/55 - 14s - loss: 0.0891 - accuracy: 0.9703 - val_loss: 0.0967 - val_accuracy: 0.9657 - 14s/epoch - 247ms/step\n"
     ]
    }
   ],
   "source": [
    "history = model.fit(\n",
    "      train,\n",
    "      epochs=20,\n",
    "      validation_data=validation,\n",
    "      verbose=2,\n",
    "      callbacks=[checkpoint_cb,early_stopping_cb,tensorboard_cb]\n",
    "      )"
   ]
  },
  {
   "cell_type": "code",
   "execution_count": 97,
   "metadata": {},
   "outputs": [
    {
     "name": "stdout",
     "output_type": "stream",
     "text": [
      "Model: \"sequential\"\n",
      "_________________________________________________________________\n",
      " Layer (type)                Output Shape              Param #   \n",
      "=================================================================\n",
      " rescaling (Rescaling)       (None, 100, 150, 3)       0         \n",
      "                                                                 \n",
      " conv2d (Conv2D)             (None, 100, 150, 16)      448       \n",
      "                                                                 \n",
      " max_pooling2d (MaxPooling2D  (None, 50, 75, 16)       0         \n",
      " )                                                               \n",
      "                                                                 \n",
      " conv2d_1 (Conv2D)           (None, 50, 75, 32)        4640      \n",
      "                                                                 \n",
      " max_pooling2d_1 (MaxPooling  (None, 25, 37, 32)       0         \n",
      " 2D)                                                             \n",
      "                                                                 \n",
      " conv2d_2 (Conv2D)           (None, 25, 37, 64)        18496     \n",
      "                                                                 \n",
      " max_pooling2d_2 (MaxPooling  (None, 12, 18, 64)       0         \n",
      " 2D)                                                             \n",
      "                                                                 \n",
      " flatten (Flatten)           (None, 13824)             0         \n",
      "                                                                 \n",
      " dense (Dense)               (None, 512)               7078400   \n",
      "                                                                 \n",
      " dense_1 (Dense)             (None, 3)                 1539      \n",
      "                                                                 \n",
      "=================================================================\n",
      "Total params: 7,103,523\n",
      "Trainable params: 7,103,523\n",
      "Non-trainable params: 0\n",
      "_________________________________________________________________\n"
     ]
    }
   ],
   "source": [
    "model.summary()"
   ]
  },
  {
   "cell_type": "markdown",
   "metadata": {},
   "source": [
    "# Rollback the model"
   ]
  },
  {
   "cell_type": "code",
   "execution_count": 98,
   "metadata": {},
   "outputs": [
    {
     "name": "stdout",
     "output_type": "stream",
     "text": [
      "14/14 [==============================] - 2s 139ms/step - loss: 0.0870 - accuracy: 0.9771\n"
     ]
    }
   ],
   "source": [
    "model = keras.models.load_model(\"rbs_model.h5\")\n",
    "eval=model.evaluate(validation)"
   ]
  },
  {
   "cell_type": "code",
   "execution_count": 99,
   "metadata": {},
   "outputs": [
    {
     "name": "stdout",
     "output_type": "stream",
     "text": [
      "55/55 [==============================] - 8s 140ms/step - loss: 0.0613 - accuracy: 0.9794\n"
     ]
    }
   ],
   "source": [
    "training= model.evaluate(train)"
   ]
  },
  {
   "cell_type": "code",
   "execution_count": 121,
   "metadata": {},
   "outputs": [
    {
     "name": "stdout",
     "output_type": "stream",
     "text": [
      "1/1 [==============================] - 0s 17ms/step\n",
      "0.98063993\n",
      "<PIL.Image.Image image mode=RGB size=150x100 at 0x1AB6DAC3CD0>\n",
      "rock\n"
     ]
    },
    {
     "data": {
      "image/png": "[encoded data removed]",
      "text/plain": [
       "<Figure size 432x288 with 1 Axes>"
      ]
     },
     "metadata": {
      "needs_background": "light"
     },
     "output_type": "display_data"
    }
   ],
   "source": [
    "from tensorflow.keras.preprocessing import image\n",
    "path = 'images\\RPS\\\\testing4.png'\n",
    "img_path = image.load_img(path,target_size=(100,150))\n",
    "img_plot = plt.imshow(img_path) \n",
    "X = image.img_to_array(img_path)\n",
    "X = np.expand_dims(X,axis=0)\n",
    "images = np.vstack([X])\n",
    "y_pred = model.predict(images, batch_size=10)\n",
    "print(y_pred[0][1])\n",
    "print(img_path)\n",
    "index= np.argmax(y_pred)\n",
    "if index==0:\n",
    "    print('paper')\n",
    "elif index==1:\n",
    "    print('rock')\n",
    "elif index==2:\n",
    "    print('scissors')\n",
    "else:\n",
    "    print('unknown')"
   ]
  },
  {
   "cell_type": "code",
   "execution_count": 101,
   "metadata": {},
   "outputs": [
    {
     "name": "stdout",
     "output_type": "stream",
     "text": [
      "The tensorboard extension is already loaded. To reload it, use:\n",
      "  %reload_ext tensorboard\n"
     ]
    },
    {
     "data": {
      "text/plain": [
       "Reusing TensorBoard on port 6006 (pid 13828), started 0:43:00 ago. (Use '!kill 13828' to kill it.)"
      ]
     },
     "metadata": {},
     "output_type": "display_data"
    },
    {
     "data": {
      "text/html": [
       "\n",
       "      <iframe id=\"tensorboard-frame-7316959afef3053b\" width=\"100%\" height=\"800\" frameborder=\"0\">\n",
       "      </iframe>\n",
       "      <script>\n",
       "        (function() {\n",
       "          const frame = document.getElementById(\"tensorboard-frame-7316959afef3053b\");\n",
       "          const url = new URL(\"http://localhost\");\n",
       "          const port = 6006;\n",
       "          if (port) {\n",
       "            url.port = port;\n",
       "          }\n",
       "          frame.src = url;\n",
       "        })();\n",
       "      </script>\n",
       "    "
      ],
      "text/plain": [
       "<IPython.core.display.HTML object>"
      ]
     },
     "metadata": {},
     "output_type": "display_data"
    }
   ],
   "source": [
    "%load_ext tensorboard\n",
    "%tensorboard --logdir=./mylogs --port=6006"
   ]
  }
 ],
 "metadata": {
  "kernelspec": {
   "display_name": "Python 3.9.9 ('env': venv)",
   "language": "python",
   "name": "python3"
  },
  "language_info": {
   "codemirror_mode": {
    "name": "ipython",
    "version": 3
   },
   "file_extension": ".py",
   "mimetype": "text/x-python",
   "name": "python",
   "nbconvert_exporter": "python",
   "pygments_lexer": "ipython3",
   "version": "3.9.9"
  },
  "orig_nbformat": 4,
  "vscode": {
   "interpreter": {
    "hash": "10a0de1c20e51bc28c1c7a024a6e5cf203ccad56b224b6286e292f7524197316"
   }
  }
 },
 "nbformat": 4,
 "nbformat_minor": 2
}
